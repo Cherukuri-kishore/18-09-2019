{
 "cells": [
  {
   "cell_type": "markdown",
   "metadata": {},
   "source": [
    "# LISTS"
   ]
  },
  {
   "cell_type": "markdown",
   "metadata": {},
   "source": [
    "# task 1\n",
    "## Take a list of elements and add that list into another empty list"
   ]
  },
  {
   "cell_type": "code",
   "execution_count": 1,
   "metadata": {},
   "outputs": [
    {
     "data": {
      "text/plain": [
       "[1, 2, 3, 4, 56, 7]"
      ]
     },
     "execution_count": 1,
     "metadata": {},
     "output_type": "execute_result"
    }
   ],
   "source": [
    "a=[1,2,3,4,56,7]\n",
    "b=[]\n",
    "b.extend(a)\n",
    "a"
   ]
  },
  {
   "cell_type": "markdown",
   "metadata": {},
   "source": [
    "# task 2\n",
    "## Sort the list of elements in ascending order and descending order."
   ]
  },
  {
   "cell_type": "code",
   "execution_count": 7,
   "metadata": {},
   "outputs": [
    {
     "name": "stdout",
     "output_type": "stream",
     "text": [
      "[1, 4, 5, 72, 212, 323]\n",
      "[323, 212, 72, 5, 4, 1]\n"
     ]
    }
   ],
   "source": [
    "a=[1,212,323,4,72,5,]\n",
    "a.sort()\n",
    "print(a)\n",
    "b=sorted(a,reverse=True)\n",
    "print(b)"
   ]
  },
  {
   "cell_type": "markdown",
   "metadata": {},
   "source": [
    "# task 3\n",
    "## Given a two list of equal size create a list such that it shows the element from both lists in the pair"
   ]
  },
  {
   "cell_type": "code",
   "execution_count": 9,
   "metadata": {},
   "outputs": [
    {
     "name": "stdout",
     "output_type": "stream",
     "text": [
      "[[9, 2], [6, 5], [7, 7], [3, 8], [4, 9]]\n"
     ]
    }
   ],
   "source": [
    "a=[9,6,7,3,4]\n",
    "b=[2,5,7,8,9]\n",
    "c=[]\n",
    "d=[]\n",
    "for i in range(len(a)):\n",
    "    c.append(a[i])\n",
    "    c.append(b[i])\n",
    "    d.append(c)\n",
    "    c=[]\n",
    "print(d)"
   ]
  },
  {
   "cell_type": "markdown",
   "metadata": {},
   "source": [
    "# task 4\n",
    "## Write a python program to print the sum and average of elements in the list."
   ]
  },
  {
   "cell_type": "code",
   "execution_count": 11,
   "metadata": {},
   "outputs": [
    {
     "name": "stdout",
     "output_type": "stream",
     "text": [
      "10\n",
      "1\n",
      "2\n",
      "3\n",
      "4\n",
      "5\n",
      "6\n",
      "7\n",
      "8\n",
      "9\n",
      "10\n",
      "55  is sum of values\n",
      "5.5  is the average of values\n"
     ]
    }
   ],
   "source": [
    "l=int(input())\n",
    "a=[]\n",
    "Sum=0\n",
    "for i in range(l):\n",
    "    a.append(int(input()))\n",
    "for i in range(l):\n",
    "    Sum+=a[i]\n",
    "print(Sum,\" is sum of values\")\n",
    "print((Sum/l),\" is the average of values\")"
   ]
  },
  {
   "cell_type": "markdown",
   "metadata": {},
   "source": [
    "# tuples"
   ]
  },
  {
   "cell_type": "markdown",
   "metadata": {},
   "source": [
    "# task 1\n",
    "## Python program to reverse the given elements in tuple."
   ]
  },
  {
   "cell_type": "code",
   "execution_count": 21,
   "metadata": {},
   "outputs": [
    {
     "name": "stdout",
     "output_type": "stream",
     "text": [
      "(7, 6, 5, 4, 3, 2, 1)\n"
     ]
    }
   ],
   "source": [
    "a=(1,2,3,4,5,6,7)\n",
    "l=len(a)-1\n",
    "b=()\n",
    "while(l>=0):\n",
    "    b=b+(a[l],)\n",
    "    l-=1\n",
    "print(b)"
   ]
  },
  {
   "cell_type": "markdown",
   "metadata": {},
   "source": [
    "# task 2\n",
    "## Python program to print names in tuples using iterations"
   ]
  },
  {
   "cell_type": "code",
   "execution_count": 23,
   "metadata": {},
   "outputs": [
    {
     "name": "stdout",
     "output_type": "stream",
     "text": [
      "length4\n",
      "sai\n",
      "chai\n",
      "1505\n",
      "1508cb\n",
      "name in given data is sai\n",
      "name in given data is chai\n"
     ]
    }
   ],
   "source": [
    "l=int(input(\"length\"))\n",
    "a=()\n",
    "for i in range(0,l):\n",
    "    a=a+((input()),)\n",
    "for i in range(0,l):\n",
    "    if a[i].isalpha():\n",
    "        print('name in given data is',a[i])"
   ]
  },
  {
   "cell_type": "markdown",
   "metadata": {},
   "source": [
    "# set"
   ]
  },
  {
   "cell_type": "markdown",
   "metadata": {},
   "source": [
    "# task\n",
    "## Take two sets and print the result using methods like Union, Difference and so on."
   ]
  },
  {
   "cell_type": "code",
   "execution_count": 25,
   "metadata": {},
   "outputs": [
    {
     "name": "stdout",
     "output_type": "stream",
     "text": [
      "{2, 838, 232, 1323, 12, 334, 1231, 21}\n",
      "{21, 334}\n",
      "{232, 1323, 12}\n",
      "232\n",
      "False\n",
      "None\n",
      "{1323, 12, 334, 21}\n",
      "{2, 838, 232, 1323, 12, 1231}\n"
     ]
    }
   ],
   "source": [
    "a={12,21,232,334,1323}\n",
    "b={2,1231,232,1323,838,12}\n",
    "print(a.union(b))\n",
    "print(a.difference(b))\n",
    "print(a.intersection(b))\n",
    "print(a.pop())\n",
    "print(a.isdisjoint(b))\n",
    "print(a.discard(b))\n",
    "print(a)\n",
    "print(b)"
   ]
  },
  {
   "cell_type": "code",
   "execution_count": null,
   "metadata": {},
   "outputs": [],
   "source": []
  }
 ],
 "metadata": {
  "kernelspec": {
   "display_name": "Python 3",
   "language": "python",
   "name": "python3"
  },
  "language_info": {
   "codemirror_mode": {
    "name": "ipython",
    "version": 3
   },
   "file_extension": ".py",
   "mimetype": "text/x-python",
   "name": "python",
   "nbconvert_exporter": "python",
   "pygments_lexer": "ipython3",
   "version": "3.7.3"
  }
 },
 "nbformat": 4,
 "nbformat_minor": 2
}
